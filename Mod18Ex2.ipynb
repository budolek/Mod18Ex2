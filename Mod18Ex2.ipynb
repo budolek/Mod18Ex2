{
 "cells": [
  {
   "cell_type": "code",
   "execution_count": 1,
   "id": "fc208dce",
   "metadata": {},
   "outputs": [],
   "source": [
    "import pandas as pd\n",
    "import numpy as np\n",
    "import matplotlib.pyplot as plt\n",
    "import tensorflow as tf\n",
    "\n",
    "from sklearn import datasets\n",
    "from sklearn.preprocessing import LabelEncoder\n",
    "from sklearn.model_selection import train_test_split\n",
    "\n",
    "from tensorflow.keras import layers\n",
    "from tensorflow.keras import datasets, layers, models\n",
    "from tensorflow.keras.utils import to_categorical"
   ]
  },
  {
   "cell_type": "code",
   "execution_count": 2,
   "id": "5b536a70",
   "metadata": {},
   "outputs": [],
   "source": [
    "from sklearn import datasets #musiałem tutaj umieścić import ponieważ w innym przypadku chciało importować z keras O_O\n",
    "\n",
    "X, y = datasets.load_iris(return_X_y=True)"
   ]
  },
  {
   "cell_type": "code",
   "execution_count": 3,
   "id": "8c5315e0",
   "metadata": {},
   "outputs": [],
   "source": [
    "# zamiana wartości teksowych na numeryczne\n",
    "encoder = LabelEncoder()\n",
    "z = encoder.fit_transform(y)"
   ]
  },
  {
   "cell_type": "code",
   "execution_count": 4,
   "id": "ed399b4f",
   "metadata": {},
   "outputs": [],
   "source": [
    "# One-Hot\n",
    "y = pd.get_dummies(z).values"
   ]
  },
  {
   "cell_type": "code",
   "execution_count": 5,
   "id": "457366f2",
   "metadata": {},
   "outputs": [],
   "source": [
    "X_train, X_test, y_train, y_test = train_test_split(X, y, test_size=0.2, random_state=0)"
   ]
  },
  {
   "cell_type": "code",
   "execution_count": 6,
   "id": "a6b40529",
   "metadata": {},
   "outputs": [
    {
     "data": {
      "text/plain": [
       "<keras.engine.sequential.Sequential at 0x1d65fd3a340>"
      ]
     },
     "execution_count": 6,
     "metadata": {},
     "output_type": "execute_result"
    }
   ],
   "source": [
    "model = tf.keras.Sequential([\n",
    "    tf.keras.layers.Dense(10, activation='relu'),\n",
    "    tf.keras.layers.Dense(10, activation='relu'),\n",
    "    tf.keras.layers.Dense(3, activation='softmax')\n",
    "  ])\n",
    "model"
   ]
  },
  {
   "cell_type": "code",
   "execution_count": 7,
   "id": "b9c304d2",
   "metadata": {},
   "outputs": [],
   "source": [
    "# kompilacja modelu\n",
    "model.compile(optimizer='adam', loss='categorical_crossentropy', metrics=['accuracy'])"
   ]
  },
  {
   "cell_type": "code",
   "execution_count": 8,
   "id": "001783dd",
   "metadata": {},
   "outputs": [
    {
     "name": "stdout",
     "output_type": "stream",
     "text": [
      "Epoch 1/100\n",
      "3/3 [==============================] - 0s 3ms/step - loss: 1.0376 - accuracy: 0.6833\n",
      "Epoch 2/100\n",
      "3/3 [==============================] - 0s 2ms/step - loss: 1.0217 - accuracy: 0.6917\n",
      "Epoch 3/100\n",
      "3/3 [==============================] - 0s 1ms/step - loss: 1.0073 - accuracy: 0.6917\n",
      "Epoch 4/100\n",
      "3/3 [==============================] - 0s 1ms/step - loss: 0.9933 - accuracy: 0.6917\n",
      "Epoch 5/100\n",
      "3/3 [==============================] - 0s 999us/step - loss: 0.9802 - accuracy: 0.6917\n",
      "Epoch 6/100\n",
      "3/3 [==============================] - 0s 2ms/step - loss: 0.9682 - accuracy: 0.6833\n",
      "Epoch 7/100\n",
      "3/3 [==============================] - 0s 2ms/step - loss: 0.9585 - accuracy: 0.6917\n",
      "Epoch 8/100\n",
      "3/3 [==============================] - 0s 1ms/step - loss: 0.9503 - accuracy: 0.7083\n",
      "Epoch 9/100\n",
      "3/3 [==============================] - 0s 2ms/step - loss: 0.9427 - accuracy: 0.7000\n",
      "Epoch 10/100\n",
      "3/3 [==============================] - 0s 2ms/step - loss: 0.9353 - accuracy: 0.6833\n",
      "Epoch 11/100\n",
      "3/3 [==============================] - 0s 2ms/step - loss: 0.9287 - accuracy: 0.6833\n",
      "Epoch 12/100\n",
      "3/3 [==============================] - 0s 2ms/step - loss: 0.9213 - accuracy: 0.6917\n",
      "Epoch 13/100\n",
      "3/3 [==============================] - 0s 2ms/step - loss: 0.9146 - accuracy: 0.6917\n",
      "Epoch 14/100\n",
      "3/3 [==============================] - 0s 1ms/step - loss: 0.9078 - accuracy: 0.6917\n",
      "Epoch 15/100\n",
      "3/3 [==============================] - 0s 2ms/step - loss: 0.9015 - accuracy: 0.6917\n",
      "Epoch 16/100\n",
      "3/3 [==============================] - 0s 2ms/step - loss: 0.8951 - accuracy: 0.6917\n",
      "Epoch 17/100\n",
      "3/3 [==============================] - 0s 2ms/step - loss: 0.8880 - accuracy: 0.7000\n",
      "Epoch 18/100\n",
      "3/3 [==============================] - 0s 999us/step - loss: 0.8809 - accuracy: 0.7000\n",
      "Epoch 19/100\n",
      "3/3 [==============================] - 0s 2ms/step - loss: 0.8741 - accuracy: 0.7000\n",
      "Epoch 20/100\n",
      "3/3 [==============================] - 0s 2ms/step - loss: 0.8669 - accuracy: 0.7000\n",
      "Epoch 21/100\n",
      "3/3 [==============================] - 0s 1ms/step - loss: 0.8602 - accuracy: 0.7000\n",
      "Epoch 22/100\n",
      "3/3 [==============================] - 0s 2ms/step - loss: 0.8529 - accuracy: 0.6917\n",
      "Epoch 23/100\n",
      "3/3 [==============================] - 0s 1ms/step - loss: 0.8460 - accuracy: 0.6917\n",
      "Epoch 24/100\n",
      "3/3 [==============================] - 0s 2ms/step - loss: 0.8390 - accuracy: 0.6917\n",
      "Epoch 25/100\n",
      "3/3 [==============================] - 0s 2ms/step - loss: 0.8316 - accuracy: 0.6917\n",
      "Epoch 26/100\n",
      "3/3 [==============================] - 0s 2ms/step - loss: 0.8244 - accuracy: 0.6917\n",
      "Epoch 27/100\n",
      "3/3 [==============================] - 0s 2ms/step - loss: 0.8166 - accuracy: 0.6917\n",
      "Epoch 28/100\n",
      "3/3 [==============================] - 0s 2ms/step - loss: 0.8084 - accuracy: 0.6917\n",
      "Epoch 29/100\n",
      "3/3 [==============================] - 0s 1ms/step - loss: 0.7999 - accuracy: 0.6917\n",
      "Epoch 30/100\n",
      "3/3 [==============================] - 0s 1ms/step - loss: 0.7909 - accuracy: 0.6917\n",
      "Epoch 31/100\n",
      "3/3 [==============================] - 0s 2ms/step - loss: 0.7822 - accuracy: 0.6917\n",
      "Epoch 32/100\n",
      "3/3 [==============================] - 0s 2ms/step - loss: 0.7752 - accuracy: 0.6917\n",
      "Epoch 33/100\n",
      "3/3 [==============================] - 0s 1ms/step - loss: 0.7668 - accuracy: 0.6917\n",
      "Epoch 34/100\n",
      "3/3 [==============================] - 0s 1ms/step - loss: 0.7588 - accuracy: 0.6917\n",
      "Epoch 35/100\n",
      "3/3 [==============================] - 0s 2ms/step - loss: 0.7506 - accuracy: 0.6917\n",
      "Epoch 36/100\n",
      "3/3 [==============================] - 0s 2ms/step - loss: 0.7438 - accuracy: 0.6917\n",
      "Epoch 37/100\n",
      "3/3 [==============================] - 0s 1ms/step - loss: 0.7348 - accuracy: 0.6917\n",
      "Epoch 38/100\n",
      "3/3 [==============================] - 0s 2ms/step - loss: 0.7270 - accuracy: 0.6917\n",
      "Epoch 39/100\n",
      "3/3 [==============================] - 0s 2ms/step - loss: 0.7191 - accuracy: 0.7000\n",
      "Epoch 40/100\n",
      "3/3 [==============================] - 0s 2ms/step - loss: 0.7112 - accuracy: 0.7083\n",
      "Epoch 41/100\n",
      "3/3 [==============================] - 0s 2ms/step - loss: 0.7033 - accuracy: 0.7083\n",
      "Epoch 42/100\n",
      "3/3 [==============================] - 0s 2ms/step - loss: 0.6954 - accuracy: 0.7083\n",
      "Epoch 43/100\n",
      "3/3 [==============================] - 0s 2ms/step - loss: 0.6872 - accuracy: 0.7167\n",
      "Epoch 44/100\n",
      "3/3 [==============================] - 0s 2ms/step - loss: 0.6794 - accuracy: 0.7167\n",
      "Epoch 45/100\n",
      "3/3 [==============================] - 0s 1ms/step - loss: 0.6709 - accuracy: 0.7167\n",
      "Epoch 46/100\n",
      "3/3 [==============================] - 0s 1ms/step - loss: 0.6626 - accuracy: 0.7250\n",
      "Epoch 47/100\n",
      "3/3 [==============================] - 0s 1ms/step - loss: 0.6550 - accuracy: 0.7250\n",
      "Epoch 48/100\n",
      "3/3 [==============================] - 0s 2ms/step - loss: 0.6464 - accuracy: 0.7250\n",
      "Epoch 49/100\n",
      "3/3 [==============================] - 0s 2ms/step - loss: 0.6379 - accuracy: 0.7250\n",
      "Epoch 50/100\n",
      "3/3 [==============================] - 0s 1ms/step - loss: 0.6298 - accuracy: 0.7250\n",
      "Epoch 51/100\n",
      "3/3 [==============================] - 0s 2ms/step - loss: 0.6218 - accuracy: 0.7250\n",
      "Epoch 52/100\n",
      "3/3 [==============================] - 0s 1ms/step - loss: 0.6143 - accuracy: 0.7250\n",
      "Epoch 53/100\n",
      "3/3 [==============================] - 0s 2ms/step - loss: 0.6055 - accuracy: 0.7250\n",
      "Epoch 54/100\n",
      "3/3 [==============================] - 0s 2ms/step - loss: 0.5973 - accuracy: 0.7250\n",
      "Epoch 55/100\n",
      "3/3 [==============================] - 0s 1ms/step - loss: 0.5897 - accuracy: 0.7250\n",
      "Epoch 56/100\n",
      "3/3 [==============================] - 0s 2ms/step - loss: 0.5811 - accuracy: 0.7250\n",
      "Epoch 57/100\n",
      "3/3 [==============================] - 0s 999us/step - loss: 0.5734 - accuracy: 0.7250\n",
      "Epoch 58/100\n",
      "3/3 [==============================] - 0s 1000us/step - loss: 0.5661 - accuracy: 0.7250\n",
      "Epoch 59/100\n",
      "3/3 [==============================] - 0s 2ms/step - loss: 0.5574 - accuracy: 0.7250\n",
      "Epoch 60/100\n",
      "3/3 [==============================] - 0s 2ms/step - loss: 0.5500 - accuracy: 0.7333\n",
      "Epoch 61/100\n",
      "3/3 [==============================] - 0s 1ms/step - loss: 0.5420 - accuracy: 0.7333\n",
      "Epoch 62/100\n",
      "3/3 [==============================] - 0s 2ms/step - loss: 0.5345 - accuracy: 0.7417\n",
      "Epoch 63/100\n",
      "3/3 [==============================] - 0s 2ms/step - loss: 0.5268 - accuracy: 0.7667\n",
      "Epoch 64/100\n",
      "3/3 [==============================] - 0s 2ms/step - loss: 0.5190 - accuracy: 0.7667\n",
      "Epoch 65/100\n",
      "3/3 [==============================] - 0s 1ms/step - loss: 0.5113 - accuracy: 0.7917\n",
      "Epoch 66/100\n",
      "3/3 [==============================] - 0s 999us/step - loss: 0.5044 - accuracy: 0.8417\n",
      "Epoch 67/100\n",
      "3/3 [==============================] - 0s 1ms/step - loss: 0.4976 - accuracy: 0.8667\n",
      "Epoch 68/100\n",
      "3/3 [==============================] - 0s 2ms/step - loss: 0.4903 - accuracy: 0.8750\n",
      "Epoch 69/100\n",
      "3/3 [==============================] - 0s 2ms/step - loss: 0.4834 - accuracy: 0.8750\n",
      "Epoch 70/100\n",
      "3/3 [==============================] - 0s 1000us/step - loss: 0.4772 - accuracy: 0.8667\n",
      "Epoch 71/100\n",
      "3/3 [==============================] - 0s 1ms/step - loss: 0.4715 - accuracy: 0.8417\n",
      "Epoch 72/100\n",
      "3/3 [==============================] - 0s 2ms/step - loss: 0.4659 - accuracy: 0.8417\n",
      "Epoch 73/100\n",
      "3/3 [==============================] - 0s 1000us/step - loss: 0.4603 - accuracy: 0.8417\n",
      "Epoch 74/100\n",
      "3/3 [==============================] - 0s 2ms/step - loss: 0.4548 - accuracy: 0.8667\n",
      "Epoch 75/100\n",
      "3/3 [==============================] - 0s 1ms/step - loss: 0.4492 - accuracy: 0.8750\n",
      "Epoch 76/100\n",
      "3/3 [==============================] - 0s 1ms/step - loss: 0.4438 - accuracy: 0.8750\n",
      "Epoch 77/100\n",
      "3/3 [==============================] - 0s 1ms/step - loss: 0.4392 - accuracy: 0.8750\n",
      "Epoch 78/100\n",
      "3/3 [==============================] - 0s 2ms/step - loss: 0.4339 - accuracy: 0.8750\n",
      "Epoch 79/100\n",
      "3/3 [==============================] - 0s 1ms/step - loss: 0.4291 - accuracy: 0.8750\n",
      "Epoch 80/100\n",
      "3/3 [==============================] - 0s 1ms/step - loss: 0.4248 - accuracy: 0.8750\n",
      "Epoch 81/100\n",
      "3/3 [==============================] - 0s 1ms/step - loss: 0.4205 - accuracy: 0.8750\n",
      "Epoch 82/100\n",
      "3/3 [==============================] - 0s 3ms/step - loss: 0.4155 - accuracy: 0.8750\n",
      "Epoch 83/100\n",
      "3/3 [==============================] - 0s 2ms/step - loss: 0.4115 - accuracy: 0.9000\n",
      "Epoch 84/100\n"
     ]
    },
    {
     "name": "stdout",
     "output_type": "stream",
     "text": [
      "3/3 [==============================] - 0s 1ms/step - loss: 0.4072 - accuracy: 0.9167\n",
      "Epoch 85/100\n",
      "3/3 [==============================] - 0s 1ms/step - loss: 0.4035 - accuracy: 0.9250\n",
      "Epoch 86/100\n",
      "3/3 [==============================] - 0s 1000us/step - loss: 0.3995 - accuracy: 0.9333\n",
      "Epoch 87/100\n",
      "3/3 [==============================] - 0s 2ms/step - loss: 0.3956 - accuracy: 0.9333\n",
      "Epoch 88/100\n",
      "3/3 [==============================] - 0s 1ms/step - loss: 0.3920 - accuracy: 0.9333\n",
      "Epoch 89/100\n",
      "3/3 [==============================] - 0s 2ms/step - loss: 0.3883 - accuracy: 0.9333\n",
      "Epoch 90/100\n",
      "3/3 [==============================] - 0s 2ms/step - loss: 0.3853 - accuracy: 0.9250\n",
      "Epoch 91/100\n",
      "3/3 [==============================] - 0s 2ms/step - loss: 0.3816 - accuracy: 0.9250\n",
      "Epoch 92/100\n",
      "3/3 [==============================] - 0s 1000us/step - loss: 0.3782 - accuracy: 0.9333\n",
      "Epoch 93/100\n",
      "3/3 [==============================] - 0s 1ms/step - loss: 0.3748 - accuracy: 0.9333\n",
      "Epoch 94/100\n",
      "3/3 [==============================] - 0s 1ms/step - loss: 0.3717 - accuracy: 0.9250\n",
      "Epoch 95/100\n",
      "3/3 [==============================] - 0s 1000us/step - loss: 0.3684 - accuracy: 0.9250\n",
      "Epoch 96/100\n",
      "3/3 [==============================] - 0s 2ms/step - loss: 0.3651 - accuracy: 0.9333\n",
      "Epoch 97/100\n",
      "3/3 [==============================] - 0s 2ms/step - loss: 0.3617 - accuracy: 0.9333\n",
      "Epoch 98/100\n",
      "3/3 [==============================] - 0s 1ms/step - loss: 0.3581 - accuracy: 0.9417\n",
      "Epoch 99/100\n",
      "3/3 [==============================] - 0s 2ms/step - loss: 0.3544 - accuracy: 0.9417\n",
      "Epoch 100/100\n",
      "3/3 [==============================] - 0s 2ms/step - loss: 0.3506 - accuracy: 0.9417\n"
     ]
    },
    {
     "data": {
      "text/plain": [
       "<keras.callbacks.History at 0x1d65ff1d490>"
      ]
     },
     "execution_count": 8,
     "metadata": {},
     "output_type": "execute_result"
    }
   ],
   "source": [
    "# trenowanie modelu\n",
    "model.fit(X_train, y_train, batch_size=50, epochs=100)"
   ]
  },
  {
   "cell_type": "code",
   "execution_count": 9,
   "id": "3e5cc53c",
   "metadata": {},
   "outputs": [
    {
     "name": "stdout",
     "output_type": "stream",
     "text": [
      "Test loss: 0.37512052059173584\n",
      "Test accuracy: 0.8666666746139526\n"
     ]
    }
   ],
   "source": [
    "#Ocena modelu\n",
    "loss, accuracy = model.evaluate(X_test, y_test, verbose=0)\n",
    "print('Test loss:', loss)\n",
    "print('Test accuracy:', accuracy)"
   ]
  },
  {
   "cell_type": "code",
   "execution_count": 10,
   "id": "442bf0c3",
   "metadata": {},
   "outputs": [
    {
     "name": "stdout",
     "output_type": "stream",
     "text": [
      "1/1 [==============================] - 0s 45ms/step\n"
     ]
    },
    {
     "data": {
      "text/plain": [
       "array([[7.4009597e-03, 2.3889564e-01, 7.5370342e-01],\n",
       "       [7.9157703e-02, 4.9589556e-01, 4.2494673e-01],\n",
       "       [9.6506029e-01, 3.4607876e-02, 3.3180686e-04],\n",
       "       [2.6832311e-03, 1.7549835e-01, 8.2181841e-01],\n",
       "       [9.3770629e-01, 6.1234053e-02, 1.0597152e-03],\n",
       "       [3.8622688e-03, 1.9915524e-01, 7.9698247e-01],\n",
       "       [9.4437462e-01, 5.4792177e-02, 8.3322445e-04],\n",
       "       [6.0590032e-02, 5.4264456e-01, 3.9676544e-01],\n",
       "       [4.1088369e-02, 4.6896458e-01, 4.8994699e-01],\n",
       "       [1.2076754e-01, 5.8255118e-01, 2.9668123e-01],\n",
       "       [5.7393238e-03, 2.2312368e-01, 7.7113700e-01],\n",
       "       [8.1343412e-02, 5.8371395e-01, 3.3494261e-01],\n",
       "       [4.2192150e-02, 4.7762358e-01, 4.8018429e-01],\n",
       "       [4.5168314e-02, 4.8160759e-01, 4.7322404e-01],\n",
       "       [3.8762558e-02, 4.7522610e-01, 4.8601133e-01],\n",
       "       [9.4890511e-01, 5.0337020e-02, 7.5789430e-04],\n",
       "       [4.7225643e-02, 4.9926016e-01, 4.5351422e-01],\n",
       "       [4.0811572e-02, 4.5870689e-01, 5.0048149e-01],\n",
       "       [9.1520190e-01, 8.2821853e-02, 1.9762546e-03],\n",
       "       [9.5613194e-01, 4.3379370e-02, 4.8878259e-04],\n",
       "       [1.2482920e-02, 3.0614498e-01, 6.8137211e-01],\n",
       "       [4.3872554e-02, 4.9964103e-01, 4.5648643e-01],\n",
       "       [9.1470027e-01, 8.3264671e-02, 2.0351587e-03],\n",
       "       [9.0650111e-01, 9.0898626e-02, 2.6003488e-03],\n",
       "       [1.8938119e-02, 3.7511840e-01, 6.0594350e-01],\n",
       "       [9.4594330e-01, 5.3121343e-02, 9.3541457e-04],\n",
       "       [9.3319112e-01, 6.5716960e-02, 1.0919670e-03],\n",
       "       [8.8565685e-02, 5.6702340e-01, 3.4441090e-01],\n",
       "       [1.6489424e-01, 5.6343520e-01, 2.7167052e-01],\n",
       "       [9.2579120e-01, 7.2810173e-02, 1.3986836e-03]], dtype=float32)"
      ]
     },
     "execution_count": 10,
     "metadata": {},
     "output_type": "execute_result"
    }
   ],
   "source": [
    "#Prognoza\n",
    "y_pred = model.predict(X_test)\n",
    "y_pred"
   ]
  },
  {
   "cell_type": "code",
   "execution_count": 11,
   "id": "1835ef5d",
   "metadata": {},
   "outputs": [
    {
     "name": "stdout",
     "output_type": "stream",
     "text": [
      "Actual:    [2 1 0 2 0 2 0 1 1 1 2 1 1 1 1 0 1 1 0 0 2 1 0 0 2 0 0 1 1 0]\n",
      "Predicted: [2 1 0 2 0 2 0 1 2 1 2 1 2 1 2 0 1 2 0 0 2 1 0 0 2 0 0 1 1 0]\n"
     ]
    }
   ],
   "source": [
    "actual = np.argmax(y_test,axis=1)\n",
    "predicted = np.argmax(y_pred,axis=1)\n",
    "print(f\"Actual:    {actual}\")\n",
    "print(f\"Predicted: {predicted}\")"
   ]
  },
  {
   "cell_type": "code",
   "execution_count": null,
   "id": "e2dfeae6",
   "metadata": {},
   "outputs": [],
   "source": []
  }
 ],
 "metadata": {
  "kernelspec": {
   "display_name": "Python 3 (ipykernel)",
   "language": "python",
   "name": "python3"
  },
  "language_info": {
   "codemirror_mode": {
    "name": "ipython",
    "version": 3
   },
   "file_extension": ".py",
   "mimetype": "text/x-python",
   "name": "python",
   "nbconvert_exporter": "python",
   "pygments_lexer": "ipython3",
   "version": "3.9.13"
  }
 },
 "nbformat": 4,
 "nbformat_minor": 5
}
